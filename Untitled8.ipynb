{
 "cells": [
  {
   "cell_type": "markdown",
   "metadata": {},
   "source": [
    "# student management"
   ]
  },
  {
   "cell_type": "code",
   "execution_count": 19,
   "metadata": {},
   "outputs": [
    {
     "ename": "SyntaxError",
     "evalue": "unexpected EOF while parsing (<ipython-input-19-996e10cf7742>, line 1)",
     "output_type": "error",
     "traceback": [
      "\u001b[1;36m  File \u001b[1;32m\"<ipython-input-19-996e10cf7742>\"\u001b[1;36m, line \u001b[1;32m1\u001b[0m\n\u001b[1;33m    def studentmanagement():\u001b[0m\n\u001b[1;37m                            ^\u001b[0m\n\u001b[1;31mSyntaxError\u001b[0m\u001b[1;31m:\u001b[0m unexpected EOF while parsing\n"
     ]
    }
   ],
   "source": [
    "def studentmanagement():"
   ]
  },
  {
   "cell_type": "markdown",
   "metadata": {},
   "source": []
  },
  {
   "cell_type": "code",
   "execution_count": 2,
   "metadata": {},
   "outputs": [
    {
     "name": "stdout",
     "output_type": "stream",
     "text": [
      "WELCOME TO STUDENT MANAGEMENT SYSTEM\n",
      "\n",
      "\n",
      "              MENU        \n",
      "\n",
      "\n",
      "Enter 1 : Student Information\n",
      "Enter 2 : To Add New Student\n",
      "Enter 3 : To Search Student\n",
      "Enter 4 : To Remove Student\n",
      " \n",
      "Please Select An Above Option: ffff\n"
     ]
    },
    {
     "ename": "NameError",
     "evalue": "name 'userinput' is not defined",
     "output_type": "error",
     "traceback": [
      "\u001b[1;31m---------------------------------------------------------------------------\u001b[0m",
      "\u001b[1;31mNameError\u001b[0m                                 Traceback (most recent call last)",
      "\u001b[1;32m<ipython-input-2-841f6d76b62b>\u001b[0m in \u001b[0;36m<module>\u001b[1;34m\u001b[0m\n\u001b[0;32m     14\u001b[0m \u001b[1;32melse\u001b[0m\u001b[1;33m:\u001b[0m\u001b[1;33m\u001b[0m\u001b[1;33m\u001b[0m\u001b[0m\n\u001b[0;32m     15\u001b[0m         \u001b[0mprint\u001b[0m\u001b[1;33m(\u001b[0m\u001b[1;34m\"\\n\"\u001b[0m\u001b[1;33m)\u001b[0m\u001b[1;33m\u001b[0m\u001b[1;33m\u001b[0m\u001b[0m\n\u001b[1;32m---> 16\u001b[1;33m \u001b[1;32mif\u001b[0m \u001b[0muserinput\u001b[0m \u001b[1;33m==\u001b[0m \u001b[1;36m1\u001b[0m \u001b[1;33m:\u001b[0m\u001b[1;33m\u001b[0m\u001b[1;33m\u001b[0m\u001b[0m\n\u001b[0m\u001b[0;32m     17\u001b[0m     \u001b[0mprint\u001b[0m\u001b[1;33m(\u001b[0m\u001b[1;34m\"Student List:\"\u001b[0m\u001b[1;34m\"\\n\"\u001b[0m\u001b[1;33m)\u001b[0m\u001b[1;33m\u001b[0m\u001b[1;33m\u001b[0m\u001b[0m\n\u001b[0;32m     18\u001b[0m     \u001b[1;32mfor\u001b[0m \u001b[0mstudents\u001b[0m \u001b[1;32min\u001b[0m \u001b[0mstudentlist\u001b[0m\u001b[1;33m:\u001b[0m\u001b[1;33m\u001b[0m\u001b[1;33m\u001b[0m\u001b[0m\n",
      "\u001b[1;31mNameError\u001b[0m: name 'userinput' is not defined"
     ]
    }
   ],
   "source": [
    "studentlist = [\"Abdullah\" , \"Hamza\" , \"Affan\" , \"Ali\"]\n",
    "\n",
    "print(\"WELCOME TO STUDENT MANAGEMENT SYSTEM\")\n",
    "print(\"\\n\")\n",
    "print(\"              MENU        \")\n",
    "print(\"\\n\")\n",
    "print(\"Enter 1 : Student Information\"\"\\n\" \"Enter 2 : To Add New Student\"\"\\n\" \"Enter 3 : To Search Student\"\"\\n\" \"Enter 4 : To Remove Student\"\"\\n \")\n",
    "\n",
    "\n",
    "try:\n",
    "    userinput = int(input(\"Please Select An Above Option: \"))\n",
    "except ValueError:\n",
    "        exit(\"\\n That's Not A Number\")\n",
    "else:\n",
    "        print(\"\\n\") \n",
    "if userinput == 1 :\n",
    "    print(\"Student List:\"\"\\n\")\n",
    "    for students in studentlist:\n",
    "        print(students)\n",
    "    print(\"\\n\")\n",
    "    studentname = input(\"Enter Student Name :\").title()\n",
    "    \n",
    "    if studentname == \"Abdullah\":\n",
    "        print(\"\"\"\n",
    "        Name = Abdullah\n",
    "        Father Name = Moin Uddin Soomro\n",
    "        Class = 10\n",
    "        Roll no = 1000\n",
    "        Subject = English , Urdu , Math , Physics \"\"\")\n",
    "    elif studentname == \"Hamza\":\n",
    "        print(\"\"\"\n",
    "        Name = Hamza\n",
    "        Father Name = Jamil Uddin\n",
    "        Class = 12\n",
    "        Roll no = 1001\n",
    "        Subject = English , Urdu , Math , Physics , Chemistry \"\"\")\n",
    "    elif studentname == \"Affan\":\n",
    "        print(\"\"\"\n",
    "        Name = Affan\n",
    "        Father Name = Saeed Ahmed\n",
    "        Class = AI\n",
    "        Roll no = 1002\n",
    "        Subject = English , AI , Math , Physics , Chemistry \"\"\")\n",
    "    elif studentname == \"Ali\":\n",
    "        print(\"\"\"\n",
    "        Name = Ali\n",
    "        Father Name = Hamad Azam\n",
    "        Class = 11\n",
    "        Roll no = 1004\n",
    "        Subject = English , Urdu , Math , Physics , Computer \"\"\")\n",
    "    else :\n",
    "        print(\"\\n\"\"Student not in list\")\n",
    "elif userinput == 2 :\n",
    "    print(\"Add new Student & details\")\n",
    "    newstudent = input(\"Enter new name :\").title()\n",
    "    if newstudent in studentlist:\n",
    "        print(\"The Student {} is already in list \".format(newstudent))\n",
    "    else:\n",
    "        studentlist.append(newstudent)\n",
    "        fname = input(\"Enter Father name : \")\n",
    "        stdtclass = input(\"Enter Class : \")\n",
    "        rollno = (\"roll no : 1005\")\n",
    "        subject = (\"subject : English, Urdu, Maths\")\n",
    "        print(rollno)\n",
    "        print(subject)\n",
    "        print(\"\\n\")\n",
    "        print(\"student list\")\n",
    "        print(studentlist)\n",
    "elif userinput ==3 :\n",
    "    print(\"Search new student\")\n",
    "    searchstud = input(\"Enter student name to search\"\"\\n\").title()\n",
    "    if searchstud in studentlist:\n",
    "        print(\"Record found, Student Name : {} \".format(searchstud))\n",
    "    else:\n",
    "        print(\"No Record found \")\n",
    "elif userinput == 4 :\n",
    "    print(\"To Remove Student\")\n",
    "    print(studentlist)\n",
    "    removestdnt = input(\"Enter student name to remove : \").title()\n",
    "    if removestdnt in studentlist : \n",
    "        studentlist.remove(removestdnt)\n",
    "        print(studentlist)\n",
    "    else :\n",
    "        print(\"Wrong information\")\n",
    "else :\n",
    "    print(\"Please select from above option\")"
   ]
  },
  {
   "cell_type": "code",
   "execution_count": null,
   "metadata": {},
   "outputs": [],
   "source": []
  },
  {
   "cell_type": "code",
   "execution_count": null,
   "metadata": {},
   "outputs": [],
   "source": []
  },
  {
   "cell_type": "code",
   "execution_count": null,
   "metadata": {},
   "outputs": [],
   "source": []
  },
  {
   "cell_type": "code",
   "execution_count": null,
   "metadata": {},
   "outputs": [],
   "source": []
  },
  {
   "cell_type": "code",
   "execution_count": null,
   "metadata": {},
   "outputs": [],
   "source": []
  },
  {
   "cell_type": "code",
   "execution_count": null,
   "metadata": {},
   "outputs": [],
   "source": []
  },
  {
   "cell_type": "code",
   "execution_count": null,
   "metadata": {},
   "outputs": [],
   "source": []
  },
  {
   "cell_type": "code",
   "execution_count": null,
   "metadata": {},
   "outputs": [],
   "source": []
  },
  {
   "cell_type": "code",
   "execution_count": null,
   "metadata": {},
   "outputs": [],
   "source": []
  }
 ],
 "metadata": {
  "kernelspec": {
   "display_name": "Python 3",
   "language": "python",
   "name": "python3"
  },
  "language_info": {
   "codemirror_mode": {
    "name": "ipython",
    "version": 3
   },
   "file_extension": ".py",
   "mimetype": "text/x-python",
   "name": "python",
   "nbconvert_exporter": "python",
   "pygments_lexer": "ipython3",
   "version": "3.7.3"
  }
 },
 "nbformat": 4,
 "nbformat_minor": 2
}
