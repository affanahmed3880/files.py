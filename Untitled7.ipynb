{
 "cells": [
  {
   "cell_type": "code",
   "execution_count": 2,
   "metadata": {},
   "outputs": [
    {
     "name": "stdout",
     "output_type": "stream",
     "text": [
      "enter pizza name q\n",
      "{}\n"
     ]
    }
   ],
   "source": [
    "import json\n",
    "pizza={}\n",
    "\n",
    "pname=\"\"\n",
    "while pname != \"q\":\n",
    "    pname =input(\"enter pizza name \")\n",
    "    if pname !=\"q\":\n",
    "        prat = input(' pizza rate')\n",
    "        pizza[pname]=prat\n",
    "print(pizza)            \n",
    "with open (\"pizzalist.lst\" , \"w\") as f:\n",
    "    json.dump(pizza,f)\n",
    "\n"
   ]
  },
  {
   "cell_type": "code",
   "execution_count": 3,
   "metadata": {},
   "outputs": [
    {
     "name": "stdout",
     "output_type": "stream",
     "text": [
      "file does not exist\n",
      "enter pizza name q\n",
      "{}\n"
     ]
    }
   ],
   "source": [
    "pizza={}\n",
    "try:\n",
    "    with open (\"pizzalist.json\" ) as f:\n",
    "        pizzalist=json.load(f)\n",
    "\n",
    "        \n",
    "except:\n",
    "    \n",
    "    print('file does not exist')\n",
    "    pname=\"\"\n",
    "while pname != \"q\":\n",
    "    pname =input(\"enter pizza name \")\n",
    "    if pname !=\"q\":\n",
    "        prat = input(' pizza rate')\n",
    "        pizza[pname]=prat\n",
    "print(pizza)            "
   ]
  },
  {
   "cell_type": "code",
   "execution_count": null,
   "metadata": {},
   "outputs": [
    {
     "name": "stdout",
     "output_type": "stream",
     "text": [
      "file does not exist\n",
      "enter pizza name ss\n",
      " pizza rateefr\n",
      "enter pizza name rth\n",
      " pizza ratetyj\n",
      "enter pizza name wed\n"
     ]
    }
   ],
   "source": [
    "pizza={}\n",
    "try:\n",
    "    with open (\"pizzalist.json\" ) as f:\n",
    "        pizzalist=json.load(f)\n",
    "\n",
    "        \n",
    "except:\n",
    "    \n",
    "    print('file does not exist')\n",
    "    pname=\"\"\n",
    "while pname != \"q\":\n",
    "    pname =input(\"enter pizza name \")\n",
    "    if pname !=\"q\":\n",
    "        prat = input(' pizza rate')\n",
    "        pizza[pname]=prat\n",
    "print(pizza)            "
   ]
  },
  {
   "cell_type": "code",
   "execution_count": 2,
   "metadata": {},
   "outputs": [
    {
     "ename": "IndentationError",
     "evalue": "unindent does not match any outer indentation level (<tokenize>, line 61)",
     "output_type": "error",
     "traceback": [
      "\u001b[1;36m  File \u001b[1;32m\"<tokenize>\"\u001b[1;36m, line \u001b[1;32m61\u001b[0m\n\u001b[1;33m    elif(userInput == 4): #This Option Will Remove Student From The List\u001b[0m\n\u001b[1;37m    ^\u001b[0m\n\u001b[1;31mIndentationError\u001b[0m\u001b[1;31m:\u001b[0m unindent does not match any outer indentation level\n"
     ]
    }
   ],
   "source": [
    "import os\n",
    "import platform\n",
    "\n",
    "global listStd #Making ListStd As Super Global Variable\n",
    "listStd = [\"christine\", \"nsb\", \"bruno\"] #List Of Students\n",
    "\n",
    "def manageStudent(): #Function For The Student Management System\n",
    "\n",
    "\tx = \"#\" * 30\n",
    "\ty = \"=\" * 28\n",
    "\tglobal bye #Making Bye As Super Global Variable\n",
    "\tbye = \"\\n {}\\n# {} #\\n# ===> Brought To You By <===  #\\n# ===> code-projects.org <===  #\\n# {} #\\n {}\".format(x, y, y, x) # Will Print GoodBye Message\n",
    "\n",
    "\t#Printing Welcome Message And options For This Program\n",
    "\tprint(\"\"\" \n",
    "\n",
    "  ------------------------------------------------------\n",
    " |======================================================| \n",
    " |======== Welcome To Student Management System\t========|\n",
    " |======================================================|\n",
    "  ------------------------------------------------------\n",
    "\n",
    "Enter 1 : To View Student's List \n",
    "Enter 2 : To Add New Student \n",
    "Enter 3 : To Search Student \n",
    "Enter 4 : To Remove Student \n",
    "\t\t\n",
    "\t\t\"\"\")\n",
    "\n",
    "\ttry: #Using Exceptions For Validation\n",
    "\t\tuserInput = int(input(\"Please Select An Above Option: \")) #Will Take Input From User\n",
    "\texcept ValueError:\n",
    "\t\texit(\"\\nHy! That's Not A Number\") #Error Message\n",
    "\telse:\n",
    "\t\tprint(\"\\n\") #Print New Line\n",
    "\n",
    "\t#Checking Using Option\t\n",
    "\tif(userInput == 1): #This Option Will Print List Of Students\n",
    "\t\tprint(\"List Students\\n\")  \n",
    "\t\tfor students in listStd:\n",
    "\t\t\tprint(\"=> {}\".format(students))\n",
    "\n",
    "\telif(userInput == 2): #This Option Will Add New Student In The List\n",
    "\t\tnewStd = input(\"Enter New Student: \")\n",
    "\t\tif(newStd in listStd): #This Condition Checking The New Student Is Already In List Ur Not\n",
    "\t\t\tprint(\"\\nThis Student {} Already In The Database\".format(newStd))  #Error Message\n",
    "\t\telse:\t\n",
    "\t\t\tlistStd.append(newStd)\n",
    "\n",
    "\t\t\tprint(\"\\n=> New Student {} Successfully Add \\n\".format(newStd))\n",
    "\t\t\tfor students in listStd:\n",
    "\t\t\t\tprint(\"=> {}\".format(students))\t\n",
    "\n",
    "\telif(userInput == 3): #This Option Will Search Student From The List\n",
    ";\t\tsrcStd = input(\"Enter Student Name To Search: \")\n",
    "\t\tif(srcStd in listStd): #This Condition Searching The Student\n",
    "\t\t\tprint(\"\\n=> Record Found Of Student {}\".format(srcStd))\n",
    "\t\telse:\n",
    "\t\t\tprint(\"\\n=> No Record Found Of Student {}\".format(srcStd)) #Error Message\n",
    "\n",
    "\telif(userInput == 4): #This Option Will Remove Student From The List\n",
    "\t\trmStd = input(\"Enter Student Name To Remove: \")\n",
    "\t\tif(rmStd in listStd): #This Condition Removing The Student From The List \n",
    "\t\t\tlistStd.remove(rmStd)\n",
    "\t\t\tprint(\"\\n=> Student {} Successfully Deleted \\n\".format(rmStd))\n",
    "\t\t\tfor students in listStd:\n",
    "\t\t\t\tprint(\"=> {}\".format(students))\n",
    "\t\telse:\n",
    "\t\t\tprint(\"\\n=> No Record Found of This Student {}\".format(rmStd)) #Error Message\n",
    "\t \n",
    "\telif(userInput < 1 or userInput > 4): #Validating User Option\n",
    "\t\tprint(\"Please Enter Valid Option\")\t#Error Message\t\n",
    "\t\t\t\t\t\t\n",
    "#brought to you by code-projects.org\n",
    "manageStudent()\n",
    "\n",
    "def runAgain(): #Making Runable Problem1353\n",
    "\trunAgn = input(\"\\nwant To Run Again Y/n: \")\n",
    "\tif(runAgn.lower() == 'y'):\n",
    "\t\tif(platform.system() == \"Windows\"): #Checking User OS For Clearing The Screen\n",
    "\t\t\tprint(os.system('cls')) \n",
    "\t\telse:\n",
    "\t\t\tprint(os.system('clear'))\n",
    "\t\tmanageStudent()\n",
    "\t\trunAgain()\n",
    "\telse:\n",
    "\t\tquit(bye) #Print GoodBye Message And Exit The Program\n",
    "\n",
    "runAgain()\t\t\n"
   ]
  }
 ],
 "metadata": {
  "kernelspec": {
   "display_name": "Python 3",
   "language": "python",
   "name": "python3"
  },
  "language_info": {
   "codemirror_mode": {
    "name": "ipython",
    "version": 3
   },
   "file_extension": ".py",
   "mimetype": "text/x-python",
   "name": "python",
   "nbconvert_exporter": "python",
   "pygments_lexer": "ipython3",
   "version": "3.7.3"
  }
 },
 "nbformat": 4,
 "nbformat_minor": 2
}
